{
 "cells": [
  {
   "cell_type": "code",
   "execution_count": 7,
   "id": "7b9ae93e-f4a1-4232-8564-9317cda3ae03",
   "metadata": {},
   "outputs": [
    {
     "name": "stdout",
     "output_type": "stream",
     "text": [
      "======== Calorie Tracker ========\n",
      "1. Add Meal\n",
      "2. View Meals\n",
      "3. Modify Meal\n",
      "4. Show Statistics\n",
      "5. Quit\n"
     ]
    },
    {
     "name": "stdin",
     "output_type": "stream",
     "text": [
      "Select an option (1-5):  1\n"
     ]
    },
    {
     "name": "stdout",
     "output_type": "stream",
     "text": [
      "\n",
      "--- Add New Meal ---\n"
     ]
    },
    {
     "name": "stdin",
     "output_type": "stream",
     "text": [
      "Food Name:  bread\n",
      "Calories:  100\n",
      "Protein (g):  5\n",
      "Carbs (g):  2\n",
      "Fats (g):  \n"
     ]
    },
    {
     "name": "stdout",
     "output_type": "stream",
     "text": [
      "Invalid number input. Please try again.\n",
      "\n",
      "======== Calorie Tracker ========\n",
      "1. Add Meal\n",
      "2. View Meals\n",
      "3. Modify Meal\n",
      "4. Show Statistics\n",
      "5. Quit\n"
     ]
    },
    {
     "name": "stdin",
     "output_type": "stream",
     "text": [
      "Select an option (1-5):  \n"
     ]
    },
    {
     "name": "stdout",
     "output_type": "stream",
     "text": [
      "Invalid selection. Please choose 1–5.\n",
      "\n",
      "======== Calorie Tracker ========\n",
      "1. Add Meal\n",
      "2. View Meals\n",
      "3. Modify Meal\n",
      "4. Show Statistics\n",
      "5. Quit\n"
     ]
    },
    {
     "name": "stdin",
     "output_type": "stream",
     "text": [
      "Select an option (1-5):  1\n"
     ]
    },
    {
     "name": "stdout",
     "output_type": "stream",
     "text": [
      "\n",
      "--- Add New Meal ---\n"
     ]
    },
    {
     "name": "stdin",
     "output_type": "stream",
     "text": [
      "Food Name:  bread\n",
      "Calories:  422\n",
      "Protein (g):  12\n",
      "Carbs (g):  12\n",
      "Fats (g):  33\n",
      "Date (YYYY-MM-DD):  2025-08-05\n",
      "Meal Type (Breakfast/Lunch/Dinner/Snack):  lunch\n"
     ]
    },
    {
     "name": "stdout",
     "output_type": "stream",
     "text": [
      "Meal saved successfully!\n",
      "\n",
      "======== Calorie Tracker ========\n",
      "1. Add Meal\n",
      "2. View Meals\n",
      "3. Modify Meal\n",
      "4. Show Statistics\n",
      "5. Quit\n"
     ]
    },
    {
     "name": "stdin",
     "output_type": "stream",
     "text": [
      "Select an option (1-5):  5\n"
     ]
    },
    {
     "name": "stdout",
     "output_type": "stream",
     "text": [
      "Goodbye!\n"
     ]
    }
   ],
   "source": [
    "##### import csv\n",
    "import uuid\n",
    "from collections import defaultdict\n",
    "\n",
    "FILENAME = 'calories.csv'\n",
    "\n",
    "# ===============================\n",
    "# Meal Class\n",
    "# ===============================\n",
    "class Meal:\n",
    "    def __init__(self, food_name, calories, protein, carbs, fats, date, meal_type):\n",
    "        self.transaction_id = str(uuid.uuid4())[:8]\n",
    "        self.food_name = food_name\n",
    "        self.calories = float(calories)\n",
    "        self.protein = float(protein)\n",
    "        self.carbs = float(carbs)\n",
    "        self.fats = float(fats)\n",
    "        self.date = date\n",
    "        self.meal_type = meal_type\n",
    "\n",
    "    def to_list(self):\n",
    "        return [\n",
    "            self.transaction_id,\n",
    "            self.food_name,\n",
    "            str(self.calories),\n",
    "            str(self.protein),\n",
    "            str(self.carbs),\n",
    "            str(self.fats),\n",
    "            self.date,\n",
    "            self.meal_type\n",
    "        ]\n",
    "\n",
    "# ===============================\n",
    "# File Functions\n",
    "# ===============================\n",
    "def save_meal(meal):\n",
    "    with open(FILENAME, 'a', newline='') as file:\n",
    "        writer = csv.writer(file)\n",
    "        writer.writerow(meal.to_list())\n",
    "\n",
    "def load_meals():\n",
    "    try:\n",
    "        with open(FILENAME, 'r') as file:\n",
    "            return [row for row in csv.reader(file)]\n",
    "    except FileNotFoundError:\n",
    "        return []\n",
    "\n",
    "def save_all(meals):\n",
    "    with open(FILENAME, 'w', newline='') as file:\n",
    "        writer = csv.writer(file)\n",
    "        writer.writerows(meals)\n",
    "\n",
    "# ===============================\n",
    "# Add Meal\n",
    "# ===============================\n",
    "def add_meal():\n",
    "    print(\"\\n--- Add New Meal ---\")\n",
    "    food_name = input(\"Food Name: \")\n",
    "    try:\n",
    "        calories = float(input(\"Calories: \"))\n",
    "        protein = float(input(\"Protein (g): \"))\n",
    "        carbs = float(input(\"Carbs (g): \"))\n",
    "        fats = float(input(\"Fats (g): \"))\n",
    "    except ValueError:\n",
    "        print(\"Invalid number input. Please try again.\\n\")\n",
    "        return\n",
    "    date = input(\"Date (YYYY-MM-DD): \")\n",
    "    meal_type = input(\"Meal Type (Breakfast/Lunch/Dinner/Snack): \")\n",
    "\n",
    "    meal = Meal(food_name, calories, protein, carbs, fats, date, meal_type)\n",
    "    save_meal(meal)\n",
    "    print(\"Meal saved successfully!\\n\")\n",
    "\n",
    "# ===============================\n",
    "# View Meals\n",
    "# ===============================\n",
    "def view_meals():\n",
    "    meals = load_meals()\n",
    "    if not meals:\n",
    "        print(\"No meals recorded yet.\\n\")\n",
    "        return\n",
    "\n",
    "    filter_type = input(\"Filter by meal type (leave blank for all): \").strip()\n",
    "    filter_date = input(\"Filter by date (YYYY-MM-DD, leave blank for all): \").strip()\n",
    "\n",
    "    print(\"\\n--- Logged Meals ---\")\n",
    "    for row in meals:\n",
    "        if filter_type and filter_type.lower() not in row[7].lower():\n",
    "            continue\n",
    "        if filter_date and filter_date != row[6]:\n",
    "            continue\n",
    "        print(\" | \".join(row))\n",
    "    print()\n",
    "\n",
    "# ===============================\n",
    "# Modify Meal\n",
    "# ===============================\n",
    "def modify_meal():\n",
    "    meals = load_meals()\n",
    "    if not meals:\n",
    "        print(\"No meals to modify.\\n\")\n",
    "        return\n",
    "\n",
    "    print(\"\\n--- Modify Meal ---\")\n",
    "    for row in meals:\n",
    "        print(\" | \".join(row))\n",
    "\n",
    "    target_id = input(\"Enter the ID of the meal to modify: \")\n",
    "\n",
    "    for row in meals:\n",
    "        if row[0] == target_id:\n",
    "            row[1] = input(f\"New food name ({row[1]}): \") or row[1]\n",
    "            row[2] = input(f\"New calories ({row[2]}): \") or row[2]\n",
    "            row[3] = input(f\"New protein ({row[3]}): \") or row[3]\n",
    "            row[4] = input(f\"New carbs ({row[4]}): \") or row[4]\n",
    "            row[5] = input(f\"New fats ({row[5]}): \") or row[5]\n",
    "            row[6] = input(f\"New date ({row[6]}): \") or row[6]\n",
    "            row[7] = input(f\"New meal type ({row[7]}): \") or row[7]\n",
    "\n",
    "            save_all(meals)\n",
    "            print(\"Meal updated successfully!\\n\")\n",
    "            return\n",
    "\n",
    "    print(\"Meal ID not found.\\n\")\n",
    "\n",
    "# ===============================\n",
    "# Show Statistics\n",
    "# ===============================\n",
    "def show_statistics():\n",
    "    meals = load_meals()\n",
    "    if not meals:\n",
    "        print(\"No meals recorded yet.\\n\")\n",
    "        return\n",
    "\n",
    "    total_calories = total_protein = total_carbs = total_fats = 0\n",
    "    date_totals = defaultdict(int)\n",
    "\n",
    "    for row in meals:\n",
    "        try:\n",
    "            total_calories += float(row[2])\n",
    "            total_protein += float(row[3])\n",
    "            total_carbs += float(row[4])\n",
    "            total_fats += float(row[5])\n",
    "            date_totals[row[6]] += 1\n",
    "        except (ValueError, IndexError):\n",
    "            continue\n",
    "\n",
    "    print(\"\\n--- Nutrition Summary ---\")\n",
    "    print(f\"Total Calories: {total_calories:.2f} kcal\")\n",
    "    print(f\"Total Protein: {total_protein:.2f} g\")\n",
    "    print(f\"Total Carbs:   {total_carbs:.2f} g\")\n",
    "    print(f\"Total Fats:    {total_fats:.2f} g\")\n",
    "    print(f\"Average Daily Calories: {total_calories / len(date_totals):.2f} kcal\\n\")\n",
    "\n",
    "# ===============================\n",
    "# Main Menu\n",
    "# ===============================\n",
    "def menu():\n",
    "    while True:\n",
    "        print(\"======== Calorie Tracker ========\")\n",
    "        print(\"1. Add Meal\")\n",
    "        print(\"2. View Meals\")\n",
    "        print(\"3. Modify Meal\")\n",
    "        print(\"4. Show Statistics\")\n",
    "        print(\"5. Quit\")\n",
    "        choice = input(\"Select an option (1-5): \")\n",
    "\n",
    "        if choice == '1':\n",
    "            add_meal()\n",
    "        elif choice == '2':\n",
    "            view_meals()\n",
    "        elif choice == '3':\n",
    "            modify_meal()\n",
    "        elif choice == '4':\n",
    "            show_statistics()\n",
    "        elif choice == '5':\n",
    "            print(\"Goodbye!\")\n",
    "            break\n",
    "        else:\n",
    "            print(\"Invalid selection. Please choose 1–5.\\n\")\n",
    "\n",
    "# Run the app\n",
    "menu()\n"
   ]
  },
  {
   "cell_type": "code",
   "execution_count": null,
   "id": "4cc3d232-91ff-4ea2-90b8-6c44e4c8ebf0",
   "metadata": {},
   "outputs": [],
   "source": []
  },
  {
   "cell_type": "code",
   "execution_count": null,
   "id": "5cfc862c-4930-43c5-8d87-06d132e40c7b",
   "metadata": {},
   "outputs": [],
   "source": []
  }
 ],
 "metadata": {
  "kernelspec": {
   "display_name": "Python [conda env:base] *",
   "language": "python",
   "name": "conda-base-py"
  },
  "language_info": {
   "codemirror_mode": {
    "name": "ipython",
    "version": 3
   },
   "file_extension": ".py",
   "mimetype": "text/x-python",
   "name": "python",
   "nbconvert_exporter": "python",
   "pygments_lexer": "ipython3",
   "version": "3.12.7"
  }
 },
 "nbformat": 4,
 "nbformat_minor": 5
}
